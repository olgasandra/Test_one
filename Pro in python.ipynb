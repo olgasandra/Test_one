{
 "cells": [
  {
   "cell_type": "code",
   "execution_count": 3,
   "id": "608b1b01-4cc8-4ef4-92e3-36ffc2874111",
   "metadata": {},
   "outputs": [],
   "source": [
    "import numpy as np\n",
    "import pandas as pd\n",
    "import matplotlib.pyplot as plt\n",
    "import seaborn as sns"
   ]
  },
  {
   "cell_type": "code",
   "execution_count": 7,
   "id": "145e3637-8392-4a2f-9561-6143365d2cf0",
   "metadata": {},
   "outputs": [],
   "source": [
    "df=pd.read_excel('C:\\\\Users\\\\OUWIRINGIYIMANA\\\\Desktop\\\\Python Revision\\\\Dataset.xlsx')\n",
    "# ntabwoba"
   ]
  },
  {
   "cell_type": "code",
   "execution_count": 9,
   "id": "5db4924d-15ee-48b3-9c00-8cb6a62c312f",
   "metadata": {},
   "outputs": [
    {
     "data": {
      "text/html": [
       "<div>\n",
       "<style scoped>\n",
       "    .dataframe tbody tr th:only-of-type {\n",
       "        vertical-align: middle;\n",
       "    }\n",
       "\n",
       "    .dataframe tbody tr th {\n",
       "        vertical-align: top;\n",
       "    }\n",
       "\n",
       "    .dataframe thead th {\n",
       "        text-align: right;\n",
       "    }\n",
       "</style>\n",
       "<table border=\"1\" class=\"dataframe\">\n",
       "  <thead>\n",
       "    <tr style=\"text-align: right;\">\n",
       "      <th></th>\n",
       "      <th>Unnamed: 0</th>\n",
       "      <th>hhid</th>\n",
       "      <th>Region</th>\n",
       "      <th>Type_place_of res</th>\n",
       "      <th>quintile</th>\n",
       "      <th>poverty</th>\n",
       "      <th>Expenditures</th>\n",
       "      <th>s1q1</th>\n",
       "      <th>b1a2</th>\n",
       "      <th>s1q3y</th>\n",
       "      <th>...</th>\n",
       "      <th>s6eq8</th>\n",
       "      <th>s6eq9</th>\n",
       "      <th>s6eq10</th>\n",
       "      <th>s6eq11</th>\n",
       "      <th>s6eq12a</th>\n",
       "      <th>s6eq12b</th>\n",
       "      <th>s6eq13</th>\n",
       "      <th>s6eq14</th>\n",
       "      <th>s6eq15</th>\n",
       "      <th>s6eq16</th>\n",
       "    </tr>\n",
       "  </thead>\n",
       "  <tbody>\n",
       "    <tr>\n",
       "      <th>0</th>\n",
       "      <td>0</td>\n",
       "      <td>100001</td>\n",
       "      <td>City of bwiza</td>\n",
       "      <td>Urban</td>\n",
       "      <td>Q4</td>\n",
       "      <td>Rich</td>\n",
       "      <td>305390.90625</td>\n",
       "      <td>Female</td>\n",
       "      <td>Household head (HH)</td>\n",
       "      <td>33</td>\n",
       "      <td>...</td>\n",
       "      <td>NaN</td>\n",
       "      <td>NaN</td>\n",
       "      <td>NaN</td>\n",
       "      <td>NaN</td>\n",
       "      <td>NaN</td>\n",
       "      <td>NaN</td>\n",
       "      <td>NaN</td>\n",
       "      <td>NaN</td>\n",
       "      <td>NaN</td>\n",
       "      <td>NaN</td>\n",
       "    </tr>\n",
       "  </tbody>\n",
       "</table>\n",
       "<p>1 rows × 66 columns</p>\n",
       "</div>"
      ],
      "text/plain": [
       "   Unnamed: 0    hhid         Region Type_place_of res quintile poverty  \\\n",
       "0           0  100001  City of bwiza             Urban       Q4    Rich   \n",
       "\n",
       "   Expenditures    s1q1                 b1a2 s1q3y  ...  s6eq8 s6eq9 s6eq10  \\\n",
       "0  305390.90625  Female  Household head (HH)    33  ...    NaN   NaN    NaN   \n",
       "\n",
       "  s6eq11 s6eq12a s6eq12b s6eq13 s6eq14 s6eq15 s6eq16  \n",
       "0    NaN     NaN     NaN    NaN    NaN    NaN    NaN  \n",
       "\n",
       "[1 rows x 66 columns]"
      ]
     },
     "execution_count": 9,
     "metadata": {},
     "output_type": "execute_result"
    }
   ],
   "source": [
    "df.head(1)"
   ]
  },
  {
   "cell_type": "code",
   "execution_count": 11,
   "id": "7131effa-3d69-4d5c-bf7f-f39f7e94c340",
   "metadata": {},
   "outputs": [
    {
     "data": {
      "text/html": [
       "<div>\n",
       "<style scoped>\n",
       "    .dataframe tbody tr th:only-of-type {\n",
       "        vertical-align: middle;\n",
       "    }\n",
       "\n",
       "    .dataframe tbody tr th {\n",
       "        vertical-align: top;\n",
       "    }\n",
       "\n",
       "    .dataframe thead th {\n",
       "        text-align: right;\n",
       "    }\n",
       "</style>\n",
       "<table border=\"1\" class=\"dataframe\">\n",
       "  <thead>\n",
       "    <tr style=\"text-align: right;\">\n",
       "      <th></th>\n",
       "      <th>Unnamed: 0</th>\n",
       "      <th>hhid</th>\n",
       "      <th>Expenditures</th>\n",
       "      <th>s1q3m</th>\n",
       "      <th>s4aq14</th>\n",
       "      <th>s6aq7b</th>\n",
       "    </tr>\n",
       "  </thead>\n",
       "  <tbody>\n",
       "    <tr>\n",
       "      <th>count</th>\n",
       "      <td>66081.000000</td>\n",
       "      <td>66081.000000</td>\n",
       "      <td>6.608000e+04</td>\n",
       "      <td>10958.000000</td>\n",
       "      <td>8820.000000</td>\n",
       "      <td>55079.000000</td>\n",
       "    </tr>\n",
       "    <tr>\n",
       "      <th>mean</th>\n",
       "      <td>33040.000000</td>\n",
       "      <td>107236.824307</td>\n",
       "      <td>2.949263e+05</td>\n",
       "      <td>5.002646</td>\n",
       "      <td>4.129705</td>\n",
       "      <td>0.691607</td>\n",
       "    </tr>\n",
       "    <tr>\n",
       "      <th>std</th>\n",
       "      <td>19076.085906</td>\n",
       "      <td>4172.876037</td>\n",
       "      <td>4.811944e+05</td>\n",
       "      <td>3.478600</td>\n",
       "      <td>2.095779</td>\n",
       "      <td>0.750003</td>\n",
       "    </tr>\n",
       "    <tr>\n",
       "      <th>min</th>\n",
       "      <td>0.000000</td>\n",
       "      <td>100001.000000</td>\n",
       "      <td>7.338551e+03</td>\n",
       "      <td>0.000000</td>\n",
       "      <td>1.000000</td>\n",
       "      <td>0.000000</td>\n",
       "    </tr>\n",
       "    <tr>\n",
       "      <th>25%</th>\n",
       "      <td>16520.000000</td>\n",
       "      <td>103618.000000</td>\n",
       "      <td>1.258603e+05</td>\n",
       "      <td>2.000000</td>\n",
       "      <td>2.000000</td>\n",
       "      <td>0.000000</td>\n",
       "    </tr>\n",
       "    <tr>\n",
       "      <th>50%</th>\n",
       "      <td>33040.000000</td>\n",
       "      <td>107308.000000</td>\n",
       "      <td>1.871206e+05</td>\n",
       "      <td>5.000000</td>\n",
       "      <td>5.000000</td>\n",
       "      <td>1.000000</td>\n",
       "    </tr>\n",
       "    <tr>\n",
       "      <th>75%</th>\n",
       "      <td>49560.000000</td>\n",
       "      <td>110856.000000</td>\n",
       "      <td>2.973869e+05</td>\n",
       "      <td>8.000000</td>\n",
       "      <td>5.000000</td>\n",
       "      <td>1.000000</td>\n",
       "    </tr>\n",
       "    <tr>\n",
       "      <th>max</th>\n",
       "      <td>66080.000000</td>\n",
       "      <td>114420.000000</td>\n",
       "      <td>1.280988e+07</td>\n",
       "      <td>11.000000</td>\n",
       "      <td>7.000000</td>\n",
       "      <td>6.000000</td>\n",
       "    </tr>\n",
       "  </tbody>\n",
       "</table>\n",
       "</div>"
      ],
      "text/plain": [
       "         Unnamed: 0           hhid  Expenditures         s1q3m       s4aq14  \\\n",
       "count  66081.000000   66081.000000  6.608000e+04  10958.000000  8820.000000   \n",
       "mean   33040.000000  107236.824307  2.949263e+05      5.002646     4.129705   \n",
       "std    19076.085906    4172.876037  4.811944e+05      3.478600     2.095779   \n",
       "min        0.000000  100001.000000  7.338551e+03      0.000000     1.000000   \n",
       "25%    16520.000000  103618.000000  1.258603e+05      2.000000     2.000000   \n",
       "50%    33040.000000  107308.000000  1.871206e+05      5.000000     5.000000   \n",
       "75%    49560.000000  110856.000000  2.973869e+05      8.000000     5.000000   \n",
       "max    66080.000000  114420.000000  1.280988e+07     11.000000     7.000000   \n",
       "\n",
       "             s6aq7b  \n",
       "count  55079.000000  \n",
       "mean       0.691607  \n",
       "std        0.750003  \n",
       "min        0.000000  \n",
       "25%        0.000000  \n",
       "50%        1.000000  \n",
       "75%        1.000000  \n",
       "max        6.000000  "
      ]
     },
     "execution_count": 11,
     "metadata": {},
     "output_type": "execute_result"
    }
   ],
   "source": [
    "df.describe()"
   ]
  },
  {
   "cell_type": "code",
   "execution_count": 15,
   "id": "f3b2d484-5a87-4b14-90a9-9f45fc55bc6d",
   "metadata": {},
   "outputs": [
    {
     "data": {
      "text/plain": [
       "Unnamed: 0               0\n",
       "hhid                     0\n",
       "Region                   0\n",
       "Type_place_of res        0\n",
       "quintile                 0\n",
       "                     ...  \n",
       "s6eq12b              65369\n",
       "s6eq13               57787\n",
       "s6eq14               65438\n",
       "s6eq15               65438\n",
       "s6eq16               65438\n",
       "Length: 66, dtype: int64"
      ]
     },
     "execution_count": 15,
     "metadata": {},
     "output_type": "execute_result"
    }
   ],
   "source": [
    "df.isnull().sum()"
   ]
  },
  {
   "cell_type": "code",
   "execution_count": 17,
   "id": "c8072308-1b86-4cbd-8c35-b7d1da0c0cef",
   "metadata": {},
   "outputs": [
    {
     "data": {
      "text/plain": [
       "0        False\n",
       "1        False\n",
       "2        False\n",
       "3        False\n",
       "4        False\n",
       "         ...  \n",
       "66076    False\n",
       "66077    False\n",
       "66078    False\n",
       "66079    False\n",
       "66080    False\n",
       "Length: 66081, dtype: bool"
      ]
     },
     "execution_count": 17,
     "metadata": {},
     "output_type": "execute_result"
    }
   ],
   "source": [
    "df.duplicated()"
   ]
  },
  {
   "cell_type": "code",
   "execution_count": 95,
   "id": "e698783c-0b0b-4f51-9cc6-6aef07520279",
   "metadata": {},
   "outputs": [
    {
     "data": {
      "text/plain": [
       "Unnamed: 0            int64\n",
       "hhid                  int64\n",
       "Region               object\n",
       "Type_place_of res    object\n",
       "quintile             object\n",
       "                      ...  \n",
       "s6eq12b              object\n",
       "s6eq13               object\n",
       "s6eq14               object\n",
       "s6eq15               object\n",
       "s6eq16               object\n",
       "Length: 66, dtype: object"
      ]
     },
     "execution_count": 95,
     "metadata": {},
     "output_type": "execute_result"
    }
   ],
   "source": [
    "df.dtypes"
   ]
  },
  {
   "cell_type": "code",
   "execution_count": 97,
   "id": "82d326bd-54c6-40c4-a2d4-557af6e38644",
   "metadata": {},
   "outputs": [
    {
     "data": {
      "text/html": [
       "<div>\n",
       "<style scoped>\n",
       "    .dataframe tbody tr th:only-of-type {\n",
       "        vertical-align: middle;\n",
       "    }\n",
       "\n",
       "    .dataframe tbody tr th {\n",
       "        vertical-align: top;\n",
       "    }\n",
       "\n",
       "    .dataframe thead th {\n",
       "        text-align: right;\n",
       "    }\n",
       "</style>\n",
       "<table border=\"1\" class=\"dataframe\">\n",
       "  <thead>\n",
       "    <tr style=\"text-align: right;\">\n",
       "      <th></th>\n",
       "      <th>Unnamed: 0</th>\n",
       "      <th>hhid</th>\n",
       "      <th>Region</th>\n",
       "      <th>Type_place_of res</th>\n",
       "      <th>quintile</th>\n",
       "      <th>poverty</th>\n",
       "      <th>Expenditures</th>\n",
       "      <th>s1q1</th>\n",
       "      <th>b1a2</th>\n",
       "      <th>s1q3y</th>\n",
       "      <th>...</th>\n",
       "      <th>s6eq8</th>\n",
       "      <th>s6eq9</th>\n",
       "      <th>s6eq10</th>\n",
       "      <th>s6eq11</th>\n",
       "      <th>s6eq12a</th>\n",
       "      <th>s6eq12b</th>\n",
       "      <th>s6eq13</th>\n",
       "      <th>s6eq14</th>\n",
       "      <th>s6eq15</th>\n",
       "      <th>s6eq16</th>\n",
       "    </tr>\n",
       "  </thead>\n",
       "  <tbody>\n",
       "    <tr>\n",
       "      <th>0</th>\n",
       "      <td>0</td>\n",
       "      <td>100001</td>\n",
       "      <td>City of bwiza</td>\n",
       "      <td>Urban</td>\n",
       "      <td>Q4</td>\n",
       "      <td>Rich</td>\n",
       "      <td>305390.90625</td>\n",
       "      <td>Female</td>\n",
       "      <td>Household head (HH)</td>\n",
       "      <td>33</td>\n",
       "      <td>...</td>\n",
       "      <td>NaN</td>\n",
       "      <td>NaN</td>\n",
       "      <td>NaN</td>\n",
       "      <td>NaN</td>\n",
       "      <td>NaN</td>\n",
       "      <td>NaN</td>\n",
       "      <td>NaN</td>\n",
       "      <td>NaN</td>\n",
       "      <td>NaN</td>\n",
       "      <td>NaN</td>\n",
       "    </tr>\n",
       "  </tbody>\n",
       "</table>\n",
       "<p>1 rows × 66 columns</p>\n",
       "</div>"
      ],
      "text/plain": [
       "   Unnamed: 0    hhid         Region Type_place_of res quintile poverty  \\\n",
       "0           0  100001  City of bwiza             Urban       Q4    Rich   \n",
       "\n",
       "   Expenditures    s1q1                 b1a2 s1q3y  ...  s6eq8 s6eq9 s6eq10  \\\n",
       "0  305390.90625  Female  Household head (HH)    33  ...    NaN   NaN    NaN   \n",
       "\n",
       "  s6eq11 s6eq12a s6eq12b s6eq13 s6eq14 s6eq15 s6eq16  \n",
       "0    NaN     NaN     NaN    NaN    NaN    NaN    NaN  \n",
       "\n",
       "[1 rows x 66 columns]"
      ]
     },
     "execution_count": 97,
     "metadata": {},
     "output_type": "execute_result"
    }
   ],
   "source": [
    "df.head(1)"
   ]
  },
  {
   "cell_type": "code",
   "execution_count": 99,
   "id": "d43af3f8-ffdf-400a-85fd-7b9dfeb37c1e",
   "metadata": {},
   "outputs": [],
   "source": [
    "df1=df.copy()"
   ]
  },
  {
   "cell_type": "code",
   "execution_count": 101,
   "id": "789b28c3-d0d0-4bf8-bbc2-9a8a23f78da5",
   "metadata": {},
   "outputs": [],
   "source": [
    "df1.rename(columns={'s1q1':'Gender','b1a2':'Relation_hh','s1q3y':'Age'},inplace=True)"
   ]
  },
  {
   "cell_type": "code",
   "execution_count": 103,
   "id": "1cac0d3c-b8c4-4d90-96ab-d468bb216901",
   "metadata": {},
   "outputs": [
    {
     "data": {
      "text/html": [
       "<div>\n",
       "<style scoped>\n",
       "    .dataframe tbody tr th:only-of-type {\n",
       "        vertical-align: middle;\n",
       "    }\n",
       "\n",
       "    .dataframe tbody tr th {\n",
       "        vertical-align: top;\n",
       "    }\n",
       "\n",
       "    .dataframe thead th {\n",
       "        text-align: right;\n",
       "    }\n",
       "</style>\n",
       "<table border=\"1\" class=\"dataframe\">\n",
       "  <thead>\n",
       "    <tr style=\"text-align: right;\">\n",
       "      <th></th>\n",
       "      <th>Unnamed: 0</th>\n",
       "      <th>hhid</th>\n",
       "      <th>Region</th>\n",
       "      <th>Type_place_of res</th>\n",
       "      <th>quintile</th>\n",
       "      <th>poverty</th>\n",
       "      <th>Expenditures</th>\n",
       "      <th>Gender</th>\n",
       "      <th>Relation_hh</th>\n",
       "      <th>Age</th>\n",
       "      <th>...</th>\n",
       "      <th>s6eq8</th>\n",
       "      <th>s6eq9</th>\n",
       "      <th>s6eq10</th>\n",
       "      <th>s6eq11</th>\n",
       "      <th>s6eq12a</th>\n",
       "      <th>s6eq12b</th>\n",
       "      <th>s6eq13</th>\n",
       "      <th>s6eq14</th>\n",
       "      <th>s6eq15</th>\n",
       "      <th>s6eq16</th>\n",
       "    </tr>\n",
       "  </thead>\n",
       "  <tbody>\n",
       "  </tbody>\n",
       "</table>\n",
       "<p>0 rows × 66 columns</p>\n",
       "</div>"
      ],
      "text/plain": [
       "Empty DataFrame\n",
       "Columns: [Unnamed: 0, hhid, Region, Type_place_of res, quintile, poverty, Expenditures, Gender, Relation_hh, Age, s1q3m, b1p4, c3b3, c4bp2, c4bp3, s4aq6a, s4aq6b, s4aq7, s4aq8, s4aq11a, s4aq11b, s4aq11c, s4aq11d, s4aq11e, s4aq11f, s4aq11g, s4aq11h, s4aq12, s4aq13, s4aq14, s4aq15, s4aq16, s4aq17, s4bq1, s4bq2, s4bq3, s4bq4, s4bq5, s4bq6, s4bq7, s4bq8, s6aq2, s6aq3, s6aq4, s6aq5, s6aq6, s6aq7a, s6aq7b, s6aq8, s6eq1, s6eq2, s6eq3, s6eq4, s6eq5, s6eq6, s6eq7, s6eq8, s6eq9, s6eq10, s6eq11, s6eq12a, s6eq12b, s6eq13, s6eq14, s6eq15, s6eq16]\n",
       "Index: []\n",
       "\n",
       "[0 rows x 66 columns]"
      ]
     },
     "execution_count": 103,
     "metadata": {},
     "output_type": "execute_result"
    }
   ],
   "source": [
    "df1.head(0)"
   ]
  },
  {
   "cell_type": "code",
   "execution_count": 105,
   "id": "24700ec6-1dec-4df0-92e5-1aaeb93e5bc8",
   "metadata": {},
   "outputs": [
    {
     "data": {
      "text/html": [
       "<div>\n",
       "<style scoped>\n",
       "    .dataframe tbody tr th:only-of-type {\n",
       "        vertical-align: middle;\n",
       "    }\n",
       "\n",
       "    .dataframe tbody tr th {\n",
       "        vertical-align: top;\n",
       "    }\n",
       "\n",
       "    .dataframe thead th {\n",
       "        text-align: right;\n",
       "    }\n",
       "</style>\n",
       "<table border=\"1\" class=\"dataframe\">\n",
       "  <thead>\n",
       "    <tr style=\"text-align: right;\">\n",
       "      <th></th>\n",
       "      <th>Unnamed: 0</th>\n",
       "      <th>hhid</th>\n",
       "      <th>Region</th>\n",
       "      <th>Type_place_of res</th>\n",
       "      <th>quintile</th>\n",
       "      <th>poverty</th>\n",
       "      <th>Expenditures</th>\n",
       "      <th>Gender</th>\n",
       "      <th>Relation_hh</th>\n",
       "      <th>Age</th>\n",
       "      <th>...</th>\n",
       "      <th>s6eq8</th>\n",
       "      <th>s6eq9</th>\n",
       "      <th>s6eq10</th>\n",
       "      <th>s6eq11</th>\n",
       "      <th>s6eq12a</th>\n",
       "      <th>s6eq12b</th>\n",
       "      <th>s6eq13</th>\n",
       "      <th>s6eq14</th>\n",
       "      <th>s6eq15</th>\n",
       "      <th>s6eq16</th>\n",
       "    </tr>\n",
       "  </thead>\n",
       "  <tbody>\n",
       "  </tbody>\n",
       "</table>\n",
       "<p>0 rows × 66 columns</p>\n",
       "</div>"
      ],
      "text/plain": [
       "Empty DataFrame\n",
       "Columns: [Unnamed: 0, hhid, Region, Type_place_of res, quintile, poverty, Expenditures, Gender, Relation_hh, Age, s1q3m, b1p4, c3b3, c4bp2, c4bp3, s4aq6a, s4aq6b, s4aq7, s4aq8, s4aq11a, s4aq11b, s4aq11c, s4aq11d, s4aq11e, s4aq11f, s4aq11g, s4aq11h, s4aq12, s4aq13, s4aq14, s4aq15, s4aq16, s4aq17, s4bq1, s4bq2, s4bq3, s4bq4, s4bq5, s4bq6, s4bq7, s4bq8, s6aq2, s6aq3, s6aq4, s6aq5, s6aq6, s6aq7a, s6aq7b, s6aq8, s6eq1, s6eq2, s6eq3, s6eq4, s6eq5, s6eq6, s6eq7, s6eq8, s6eq9, s6eq10, s6eq11, s6eq12a, s6eq12b, s6eq13, s6eq14, s6eq15, s6eq16]\n",
       "Index: []\n",
       "\n",
       "[0 rows x 66 columns]"
      ]
     },
     "execution_count": 105,
     "metadata": {},
     "output_type": "execute_result"
    }
   ],
   "source": [
    "df1.head(0)"
   ]
  },
  {
   "cell_type": "code",
   "execution_count": 112,
   "id": "41bfed68-1333-4fe1-956a-38144990200e",
   "metadata": {},
   "outputs": [
    {
     "data": {
      "text/html": [
       "<div>\n",
       "<style scoped>\n",
       "    .dataframe tbody tr th:only-of-type {\n",
       "        vertical-align: middle;\n",
       "    }\n",
       "\n",
       "    .dataframe tbody tr th {\n",
       "        vertical-align: top;\n",
       "    }\n",
       "\n",
       "    .dataframe thead th {\n",
       "        text-align: right;\n",
       "    }\n",
       "</style>\n",
       "<table border=\"1\" class=\"dataframe\">\n",
       "  <thead>\n",
       "    <tr style=\"text-align: right;\">\n",
       "      <th></th>\n",
       "      <th>Unnamed: 0</th>\n",
       "      <th>hhid</th>\n",
       "      <th>Region</th>\n",
       "      <th>Type_place_of res</th>\n",
       "      <th>quintile</th>\n",
       "      <th>poverty</th>\n",
       "      <th>Expenditures</th>\n",
       "      <th>Gender</th>\n",
       "      <th>Relation_hh</th>\n",
       "      <th>Age</th>\n",
       "      <th>...</th>\n",
       "      <th>s6eq8</th>\n",
       "      <th>s6eq9</th>\n",
       "      <th>s6eq10</th>\n",
       "      <th>s6eq11</th>\n",
       "      <th>s6eq12a</th>\n",
       "      <th>s6eq12b</th>\n",
       "      <th>s6eq13</th>\n",
       "      <th>s6eq14</th>\n",
       "      <th>s6eq15</th>\n",
       "      <th>s6eq16</th>\n",
       "    </tr>\n",
       "  </thead>\n",
       "  <tbody>\n",
       "    <tr>\n",
       "      <th>0</th>\n",
       "      <td>0</td>\n",
       "      <td>100001</td>\n",
       "      <td>City of bwiza</td>\n",
       "      <td>Urban</td>\n",
       "      <td>Q4</td>\n",
       "      <td>Rich</td>\n",
       "      <td>305390.906250</td>\n",
       "      <td>Female</td>\n",
       "      <td>Household head (HH)</td>\n",
       "      <td>33</td>\n",
       "      <td>...</td>\n",
       "      <td>NaN</td>\n",
       "      <td>NaN</td>\n",
       "      <td>NaN</td>\n",
       "      <td>NaN</td>\n",
       "      <td>NaN</td>\n",
       "      <td>NaN</td>\n",
       "      <td>NaN</td>\n",
       "      <td>NaN</td>\n",
       "      <td>NaN</td>\n",
       "      <td>NaN</td>\n",
       "    </tr>\n",
       "    <tr>\n",
       "      <th>1</th>\n",
       "      <td>1</td>\n",
       "      <td>100001</td>\n",
       "      <td>City of bwiza</td>\n",
       "      <td>Urban</td>\n",
       "      <td>Q4</td>\n",
       "      <td>Rich</td>\n",
       "      <td>305390.906250</td>\n",
       "      <td>Male</td>\n",
       "      <td>Son or daughter of HH</td>\n",
       "      <td>16</td>\n",
       "      <td>...</td>\n",
       "      <td>No</td>\n",
       "      <td>NaN</td>\n",
       "      <td>No</td>\n",
       "      <td>NaN</td>\n",
       "      <td>NaN</td>\n",
       "      <td>NaN</td>\n",
       "      <td>No</td>\n",
       "      <td>NaN</td>\n",
       "      <td>NaN</td>\n",
       "      <td>NaN</td>\n",
       "    </tr>\n",
       "    <tr>\n",
       "      <th>2</th>\n",
       "      <td>2</td>\n",
       "      <td>100001</td>\n",
       "      <td>City of bwiza</td>\n",
       "      <td>Urban</td>\n",
       "      <td>Q4</td>\n",
       "      <td>Rich</td>\n",
       "      <td>305390.906250</td>\n",
       "      <td>Male</td>\n",
       "      <td>Son or daughter of HH</td>\n",
       "      <td>14</td>\n",
       "      <td>...</td>\n",
       "      <td>No</td>\n",
       "      <td>NaN</td>\n",
       "      <td>No</td>\n",
       "      <td>NaN</td>\n",
       "      <td>NaN</td>\n",
       "      <td>NaN</td>\n",
       "      <td>No</td>\n",
       "      <td>NaN</td>\n",
       "      <td>NaN</td>\n",
       "      <td>NaN</td>\n",
       "    </tr>\n",
       "    <tr>\n",
       "      <th>3</th>\n",
       "      <td>3</td>\n",
       "      <td>100001</td>\n",
       "      <td>City of bwiza</td>\n",
       "      <td>Urban</td>\n",
       "      <td>Q4</td>\n",
       "      <td>Rich</td>\n",
       "      <td>305390.906250</td>\n",
       "      <td>Female</td>\n",
       "      <td>Son or daughter of HH</td>\n",
       "      <td>10</td>\n",
       "      <td>...</td>\n",
       "      <td>No</td>\n",
       "      <td>NaN</td>\n",
       "      <td>No</td>\n",
       "      <td>NaN</td>\n",
       "      <td>NaN</td>\n",
       "      <td>NaN</td>\n",
       "      <td>No</td>\n",
       "      <td>NaN</td>\n",
       "      <td>NaN</td>\n",
       "      <td>NaN</td>\n",
       "    </tr>\n",
       "    <tr>\n",
       "      <th>4</th>\n",
       "      <td>4</td>\n",
       "      <td>100001</td>\n",
       "      <td>City of bwiza</td>\n",
       "      <td>Urban</td>\n",
       "      <td>Q4</td>\n",
       "      <td>Rich</td>\n",
       "      <td>305390.906250</td>\n",
       "      <td>Male</td>\n",
       "      <td>Brother or sister of HH</td>\n",
       "      <td>19</td>\n",
       "      <td>...</td>\n",
       "      <td>No</td>\n",
       "      <td>NaN</td>\n",
       "      <td>No</td>\n",
       "      <td>NaN</td>\n",
       "      <td>NaN</td>\n",
       "      <td>NaN</td>\n",
       "      <td>No</td>\n",
       "      <td>NaN</td>\n",
       "      <td>NaN</td>\n",
       "      <td>NaN</td>\n",
       "    </tr>\n",
       "    <tr>\n",
       "      <th>...</th>\n",
       "      <td>...</td>\n",
       "      <td>...</td>\n",
       "      <td>...</td>\n",
       "      <td>...</td>\n",
       "      <td>...</td>\n",
       "      <td>...</td>\n",
       "      <td>...</td>\n",
       "      <td>...</td>\n",
       "      <td>...</td>\n",
       "      <td>...</td>\n",
       "      <td>...</td>\n",
       "      <td>...</td>\n",
       "      <td>...</td>\n",
       "      <td>...</td>\n",
       "      <td>...</td>\n",
       "      <td>...</td>\n",
       "      <td>...</td>\n",
       "      <td>...</td>\n",
       "      <td>...</td>\n",
       "      <td>...</td>\n",
       "      <td>...</td>\n",
       "    </tr>\n",
       "    <tr>\n",
       "      <th>66076</th>\n",
       "      <td>66076</td>\n",
       "      <td>114419</td>\n",
       "      <td>Eastern region</td>\n",
       "      <td>Rural</td>\n",
       "      <td>Q1</td>\n",
       "      <td>Extremely pooy</td>\n",
       "      <td>96416.578125</td>\n",
       "      <td>Female</td>\n",
       "      <td>Son or daughter of HH</td>\n",
       "      <td>15</td>\n",
       "      <td>...</td>\n",
       "      <td>NaN</td>\n",
       "      <td>NaN</td>\n",
       "      <td>NaN</td>\n",
       "      <td>NaN</td>\n",
       "      <td>NaN</td>\n",
       "      <td>NaN</td>\n",
       "      <td>NaN</td>\n",
       "      <td>NaN</td>\n",
       "      <td>NaN</td>\n",
       "      <td>NaN</td>\n",
       "    </tr>\n",
       "    <tr>\n",
       "      <th>66077</th>\n",
       "      <td>66077</td>\n",
       "      <td>114419</td>\n",
       "      <td>Eastern region</td>\n",
       "      <td>Rural</td>\n",
       "      <td>Q1</td>\n",
       "      <td>Extremely pooy</td>\n",
       "      <td>96416.578125</td>\n",
       "      <td>Male</td>\n",
       "      <td>Son or daughter of HH</td>\n",
       "      <td>12</td>\n",
       "      <td>...</td>\n",
       "      <td>NaN</td>\n",
       "      <td>NaN</td>\n",
       "      <td>NaN</td>\n",
       "      <td>NaN</td>\n",
       "      <td>NaN</td>\n",
       "      <td>NaN</td>\n",
       "      <td>NaN</td>\n",
       "      <td>NaN</td>\n",
       "      <td>NaN</td>\n",
       "      <td>NaN</td>\n",
       "    </tr>\n",
       "    <tr>\n",
       "      <th>66078</th>\n",
       "      <td>66078</td>\n",
       "      <td>114420</td>\n",
       "      <td>Eastern region</td>\n",
       "      <td>Rural</td>\n",
       "      <td>Q5</td>\n",
       "      <td>Rich</td>\n",
       "      <td>344908.468750</td>\n",
       "      <td>Female</td>\n",
       "      <td>Household head (HH)</td>\n",
       "      <td>61</td>\n",
       "      <td>...</td>\n",
       "      <td>NaN</td>\n",
       "      <td>NaN</td>\n",
       "      <td>NaN</td>\n",
       "      <td>NaN</td>\n",
       "      <td>NaN</td>\n",
       "      <td>NaN</td>\n",
       "      <td>NaN</td>\n",
       "      <td>NaN</td>\n",
       "      <td>NaN</td>\n",
       "      <td>NaN</td>\n",
       "    </tr>\n",
       "    <tr>\n",
       "      <th>66079</th>\n",
       "      <td>66079</td>\n",
       "      <td>114420</td>\n",
       "      <td>Eastern region</td>\n",
       "      <td>Rural</td>\n",
       "      <td>Q5</td>\n",
       "      <td>Rich</td>\n",
       "      <td>344908.468750</td>\n",
       "      <td>Female</td>\n",
       "      <td>Grand child of HH</td>\n",
       "      <td>26</td>\n",
       "      <td>...</td>\n",
       "      <td>NaN</td>\n",
       "      <td>NaN</td>\n",
       "      <td>NaN</td>\n",
       "      <td>NaN</td>\n",
       "      <td>NaN</td>\n",
       "      <td>NaN</td>\n",
       "      <td>NaN</td>\n",
       "      <td>NaN</td>\n",
       "      <td>NaN</td>\n",
       "      <td>NaN</td>\n",
       "    </tr>\n",
       "    <tr>\n",
       "      <th>66080</th>\n",
       "      <td>66080</td>\n",
       "      <td>114420</td>\n",
       "      <td>Eastern region</td>\n",
       "      <td>Rural</td>\n",
       "      <td>Q5</td>\n",
       "      <td>Rich</td>\n",
       "      <td>344908.468750</td>\n",
       "      <td>Male</td>\n",
       "      <td>Grand child of HH</td>\n",
       "      <td>12</td>\n",
       "      <td>...</td>\n",
       "      <td>NaN</td>\n",
       "      <td>NaN</td>\n",
       "      <td>NaN</td>\n",
       "      <td>NaN</td>\n",
       "      <td>NaN</td>\n",
       "      <td>NaN</td>\n",
       "      <td>NaN</td>\n",
       "      <td>NaN</td>\n",
       "      <td>NaN</td>\n",
       "      <td>NaN</td>\n",
       "    </tr>\n",
       "  </tbody>\n",
       "</table>\n",
       "<p>66073 rows × 66 columns</p>\n",
       "</div>"
      ],
      "text/plain": [
       "       Unnamed: 0    hhid          Region Type_place_of res quintile  \\\n",
       "0               0  100001   City of bwiza             Urban       Q4   \n",
       "1               1  100001   City of bwiza             Urban       Q4   \n",
       "2               2  100001   City of bwiza             Urban       Q4   \n",
       "3               3  100001   City of bwiza             Urban       Q4   \n",
       "4               4  100001   City of bwiza             Urban       Q4   \n",
       "...           ...     ...             ...               ...      ...   \n",
       "66076       66076  114419  Eastern region             Rural       Q1   \n",
       "66077       66077  114419  Eastern region             Rural       Q1   \n",
       "66078       66078  114420  Eastern region             Rural       Q5   \n",
       "66079       66079  114420  Eastern region             Rural       Q5   \n",
       "66080       66080  114420  Eastern region             Rural       Q5   \n",
       "\n",
       "              poverty   Expenditures  Gender              Relation_hh Age  \\\n",
       "0                Rich  305390.906250  Female      Household head (HH)  33   \n",
       "1                Rich  305390.906250    Male    Son or daughter of HH  16   \n",
       "2                Rich  305390.906250    Male    Son or daughter of HH  14   \n",
       "3                Rich  305390.906250  Female    Son or daughter of HH  10   \n",
       "4                Rich  305390.906250    Male  Brother or sister of HH  19   \n",
       "...               ...            ...     ...                      ...  ..   \n",
       "66076  Extremely pooy   96416.578125  Female    Son or daughter of HH  15   \n",
       "66077  Extremely pooy   96416.578125    Male    Son or daughter of HH  12   \n",
       "66078            Rich  344908.468750  Female      Household head (HH)  61   \n",
       "66079            Rich  344908.468750  Female        Grand child of HH  26   \n",
       "66080            Rich  344908.468750    Male        Grand child of HH  12   \n",
       "\n",
       "       ...  s6eq8 s6eq9 s6eq10 s6eq11 s6eq12a s6eq12b s6eq13 s6eq14 s6eq15  \\\n",
       "0      ...    NaN   NaN    NaN    NaN     NaN     NaN    NaN    NaN    NaN   \n",
       "1      ...     No   NaN     No    NaN     NaN     NaN     No    NaN    NaN   \n",
       "2      ...     No   NaN     No    NaN     NaN     NaN     No    NaN    NaN   \n",
       "3      ...     No   NaN     No    NaN     NaN     NaN     No    NaN    NaN   \n",
       "4      ...     No   NaN     No    NaN     NaN     NaN     No    NaN    NaN   \n",
       "...    ...    ...   ...    ...    ...     ...     ...    ...    ...    ...   \n",
       "66076  ...    NaN   NaN    NaN    NaN     NaN     NaN    NaN    NaN    NaN   \n",
       "66077  ...    NaN   NaN    NaN    NaN     NaN     NaN    NaN    NaN    NaN   \n",
       "66078  ...    NaN   NaN    NaN    NaN     NaN     NaN    NaN    NaN    NaN   \n",
       "66079  ...    NaN   NaN    NaN    NaN     NaN     NaN    NaN    NaN    NaN   \n",
       "66080  ...    NaN   NaN    NaN    NaN     NaN     NaN    NaN    NaN    NaN   \n",
       "\n",
       "      s6eq16  \n",
       "0        NaN  \n",
       "1        NaN  \n",
       "2        NaN  \n",
       "3        NaN  \n",
       "4        NaN  \n",
       "...      ...  \n",
       "66076    NaN  \n",
       "66077    NaN  \n",
       "66078    NaN  \n",
       "66079    NaN  \n",
       "66080    NaN  \n",
       "\n",
       "[66073 rows x 66 columns]"
      ]
     },
     "execution_count": 112,
     "metadata": {},
     "output_type": "execute_result"
    }
   ],
   "source": [
    "df2=df1.dropna(subset=['poverty','Expenditures','Gender','Relation_hh','Age'])\n",
    "df2"
   ]
  },
  {
   "cell_type": "code",
   "execution_count": 122,
   "id": "d1a64dc3-45e3-4e76-afc3-fc403cd28dd3",
   "metadata": {},
   "outputs": [
    {
     "data": {
      "text/plain": [
       "0        Female\n",
       "1          Male\n",
       "2          Male\n",
       "3        Female\n",
       "4          Male\n",
       "          ...  \n",
       "66076    Female\n",
       "66077      Male\n",
       "66078    Female\n",
       "66079    Female\n",
       "66080      Male\n",
       "Name: Gender, Length: 66073, dtype: object"
      ]
     },
     "execution_count": 122,
     "metadata": {},
     "output_type": "execute_result"
    }
   ],
   "source": [
    "df2['Gender'].replace(['F','M'],['Female','Male'])"
   ]
  },
  {
   "cell_type": "code",
   "execution_count": 124,
   "id": "a6f824c1-c918-4e1d-85af-50e33a7b2179",
   "metadata": {},
   "outputs": [
    {
     "data": {
      "text/plain": [
       "array(['Female', 'Male'], dtype=object)"
      ]
     },
     "execution_count": 124,
     "metadata": {},
     "output_type": "execute_result"
    }
   ],
   "source": [
    "df2['Gender'].unique()"
   ]
  },
  {
   "cell_type": "code",
   "execution_count": 126,
   "id": "7097860e-49e2-4e1c-883b-7a513d5d35dd",
   "metadata": {},
   "outputs": [
    {
     "data": {
      "text/html": [
       "<div>\n",
       "<style scoped>\n",
       "    .dataframe tbody tr th:only-of-type {\n",
       "        vertical-align: middle;\n",
       "    }\n",
       "\n",
       "    .dataframe tbody tr th {\n",
       "        vertical-align: top;\n",
       "    }\n",
       "\n",
       "    .dataframe thead th {\n",
       "        text-align: right;\n",
       "    }\n",
       "</style>\n",
       "<table border=\"1\" class=\"dataframe\">\n",
       "  <thead>\n",
       "    <tr style=\"text-align: right;\">\n",
       "      <th></th>\n",
       "      <th>Unnamed: 0</th>\n",
       "      <th>hhid</th>\n",
       "      <th>Region</th>\n",
       "      <th>Type_place_of res</th>\n",
       "      <th>quintile</th>\n",
       "      <th>poverty</th>\n",
       "      <th>Expenditures</th>\n",
       "      <th>Gender</th>\n",
       "      <th>Relation_hh</th>\n",
       "      <th>Age</th>\n",
       "      <th>...</th>\n",
       "      <th>s6eq8</th>\n",
       "      <th>s6eq9</th>\n",
       "      <th>s6eq10</th>\n",
       "      <th>s6eq11</th>\n",
       "      <th>s6eq12a</th>\n",
       "      <th>s6eq12b</th>\n",
       "      <th>s6eq13</th>\n",
       "      <th>s6eq14</th>\n",
       "      <th>s6eq15</th>\n",
       "      <th>s6eq16</th>\n",
       "    </tr>\n",
       "  </thead>\n",
       "  <tbody>\n",
       "  </tbody>\n",
       "</table>\n",
       "<p>0 rows × 66 columns</p>\n",
       "</div>"
      ],
      "text/plain": [
       "Empty DataFrame\n",
       "Columns: [Unnamed: 0, hhid, Region, Type_place_of res, quintile, poverty, Expenditures, Gender, Relation_hh, Age, s1q3m, b1p4, c3b3, c4bp2, c4bp3, s4aq6a, s4aq6b, s4aq7, s4aq8, s4aq11a, s4aq11b, s4aq11c, s4aq11d, s4aq11e, s4aq11f, s4aq11g, s4aq11h, s4aq12, s4aq13, s4aq14, s4aq15, s4aq16, s4aq17, s4bq1, s4bq2, s4bq3, s4bq4, s4bq5, s4bq6, s4bq7, s4bq8, s6aq2, s6aq3, s6aq4, s6aq5, s6aq6, s6aq7a, s6aq7b, s6aq8, s6eq1, s6eq2, s6eq3, s6eq4, s6eq5, s6eq6, s6eq7, s6eq8, s6eq9, s6eq10, s6eq11, s6eq12a, s6eq12b, s6eq13, s6eq14, s6eq15, s6eq16]\n",
       "Index: []\n",
       "\n",
       "[0 rows x 66 columns]"
      ]
     },
     "execution_count": 126,
     "metadata": {},
     "output_type": "execute_result"
    }
   ],
   "source": [
    "df2.head(0)"
   ]
  },
  {
   "cell_type": "code",
   "execution_count": 134,
   "id": "0b98abab-6785-42e4-8298-c0a3c4d1ef27",
   "metadata": {},
   "outputs": [
    {
     "data": {
      "text/plain": [
       "array([33, 16, 14, 10, 19, 36, 27, 20, 44, 18, 12, 23, 32, 4, 1, 39, 13,\n",
       "       24, 62, 26, 7, 51, 9, 17, 29, 46, 38, 54, 50, 21, 11, 22, 28, 42,\n",
       "       8, 5, 3, 37, 2, 6, 35, 15, 30, 25, 34, 31, 59, 40, 64, 41, 58, 0,\n",
       "       48, 43, 88, 69, 87, 57, 56, 45, 60, 55, 53, 68, 78, 86, 84, 47, 99,\n",
       "       66, 67, 49, 71, 61, 77, 52, 82, 63, 65, 73, 91, 90, 70, 76, 79, 81,\n",
       "       74, 83, 98, 92, 72, 80, 75, 85, 94, 89, 93, 97, 100, 95, 110, 102,\n",
       "       101, 109, 96, 'Less than 1'], dtype=object)"
      ]
     },
     "execution_count": 134,
     "metadata": {},
     "output_type": "execute_result"
    }
   ],
   "source": [
    "df2['Age'].unique()"
   ]
  },
  {
   "cell_type": "code",
   "execution_count": 146,
   "id": "bd26d471-734e-43d5-b924-ee4815e25da7",
   "metadata": {},
   "outputs": [
    {
     "name": "stderr",
     "output_type": "stream",
     "text": [
      "C:\\Users\\OUWIRINGIYIMANA\\AppData\\Local\\Temp\\ipykernel_16844\\2516545353.py:1: FutureWarning: Downcasting behavior in `replace` is deprecated and will be removed in a future version. To retain the old behavior, explicitly call `result.infer_objects(copy=False)`. To opt-in to the future behavior, set `pd.set_option('future.no_silent_downcasting', True)`\n",
      "  df2['Age']=df2['Age'].replace('Less than 1',0)\n"
     ]
    }
   ],
   "source": [
    "df2['Age']=df2['Age'].replace('Less than 1',0)"
   ]
  },
  {
   "cell_type": "code",
   "execution_count": 148,
   "id": "1cc2572c-19f3-4a9a-af26-83b17521e91f",
   "metadata": {},
   "outputs": [
    {
     "data": {
      "text/plain": [
       "array([ 33,  16,  14,  10,  19,  36,  27,  20,  44,  18,  12,  23,  32,\n",
       "         4,   1,  39,  13,  24,  62,  26,   7,  51,   9,  17,  29,  46,\n",
       "        38,  54,  50,  21,  11,  22,  28,  42,   8,   5,   3,  37,   2,\n",
       "         6,  35,  15,  30,  25,  34,  31,  59,  40,  64,  41,  58,   0,\n",
       "        48,  43,  88,  69,  87,  57,  56,  45,  60,  55,  53,  68,  78,\n",
       "        86,  84,  47,  99,  66,  67,  49,  71,  61,  77,  52,  82,  63,\n",
       "        65,  73,  91,  90,  70,  76,  79,  81,  74,  83,  98,  92,  72,\n",
       "        80,  75,  85,  94,  89,  93,  97, 100,  95, 110, 102, 101, 109,\n",
       "        96], dtype=int64)"
      ]
     },
     "execution_count": 148,
     "metadata": {},
     "output_type": "execute_result"
    }
   ],
   "source": [
    "df2['Age'].unique()"
   ]
  },
  {
   "cell_type": "code",
   "execution_count": 156,
   "id": "1c6f4bdb-89eb-48a7-b361-3065f27b958e",
   "metadata": {},
   "outputs": [
    {
     "data": {
      "text/plain": [
       "0        33.0\n",
       "1        16.0\n",
       "2        14.0\n",
       "3        10.0\n",
       "4        19.0\n",
       "         ... \n",
       "66076    15.0\n",
       "66077    12.0\n",
       "66078    61.0\n",
       "66079    26.0\n",
       "66080    12.0\n",
       "Name: Age, Length: 66073, dtype: float64"
      ]
     },
     "execution_count": 156,
     "metadata": {},
     "output_type": "execute_result"
    }
   ],
   "source": [
    "df2['Age'].astype(float)"
   ]
  },
  {
   "cell_type": "code",
   "execution_count": 160,
   "id": "e690528c-2512-45a6-91ff-420f8370ac62",
   "metadata": {},
   "outputs": [
    {
     "data": {
      "image/png": "[encoded data removed]",
      "text/plain": [
       "<Figure size 640x480 with 1 Axes>"
      ]
     },
     "metadata": {},
     "output_type": "display_data"
    }
   ],
   "source": [
    "sns.boxplot(df2['Age']);"
   ]
  },
  {
   "cell_type": "code",
   "execution_count": 192,
   "id": "de73345d-7093-40ae-bb8d-dacc404cde63",
   "metadata": {},
   "outputs": [
    {
     "data": {
      "text/plain": [
       "0        33\n",
       "1        16\n",
       "2        14\n",
       "3        10\n",
       "4        19\n",
       "         ..\n",
       "66076    15\n",
       "66077    12\n",
       "66078    61\n",
       "66079    26\n",
       "66080    12\n",
       "Name: Age, Length: 64674, dtype: int64"
      ]
     },
     "execution_count": 192,
     "metadata": {},
     "output_type": "execute_result"
    }
   ],
   "source": [
    "Q1=df2['Age'].quantile(0.25)\n",
    "Q3=df2['Age'].quantile(0.75)\n",
    "IQR=Q3-Q1\n",
    "\n",
    "lower_bound=Q1-1.5*IQR\n",
    "upper_bound=Q3+1.5*IQR\n",
    "df3= df2[(df2['Age']>=lower_bound) & (df2['Age']<=upper_bound)]\n",
    "df3['Age']"
   ]
  },
  {
   "cell_type": "code",
   "execution_count": 196,
   "id": "78c1c810-9a5c-4fb9-bc8e-f5c66d2f8c77",
   "metadata": {},
   "outputs": [
    {
     "data": {
      "image/png": "[encoded data removed]",
      "text/plain": [
       "<Figure size 640x480 with 1 Axes>"
      ]
     },
     "metadata": {},
     "output_type": "display_data"
    }
   ],
   "source": [
    "sns.boxplot(df3['Age']);"
   ]
  },
  {
   "cell_type": "code",
   "execution_count": 162,
   "id": "605f31f8-5e87-4ad2-bdf1-509b82673e2b",
   "metadata": {},
   "outputs": [
    {
     "data": {
      "image/png": "[encoded data removed]",
      "text/plain": [
       "<Figure size 640x480 with 1 Axes>"
      ]
     },
     "metadata": {},
     "output_type": "display_data"
    }
   ],
   "source": [
    "sns.boxplot(df2['Expenditures']);"
   ]
  },
  {
   "cell_type": "code",
   "execution_count": 204,
   "id": "ab0d641c-5c2f-406b-ab12-21168690ee83",
   "metadata": {},
   "outputs": [
    {
     "data": {
      "text/plain": [
       "0        305390.906250\n",
       "1        305390.906250\n",
       "2        305390.906250\n",
       "3        305390.906250\n",
       "4        305390.906250\n",
       "             ...      \n",
       "66076     96416.578125\n",
       "66077     96416.578125\n",
       "66078    344908.468750\n",
       "66079    344908.468750\n",
       "66080    344908.468750\n",
       "Name: Expenditures, Length: 60024, dtype: float64"
      ]
     },
     "execution_count": 204,
     "metadata": {},
     "output_type": "execute_result"
    }
   ],
   "source": [
    "Q1=df2['Expenditures'].quantile(0.25)\n",
    "Q3=df2['Expenditures'].quantile(0.75)\n",
    "IQR=Q3-Q1\n",
    "lower_bound=Q1-1.5*IQR\n",
    "upper_bound=Q3+1.5*IQR\n",
    "df3=df2[(df2['Expenditures']>=lower_bound) & (df2['Expenditures']<=upper_bound)]\n",
    "df3['Expenditures']"
   ]
  },
  {
   "cell_type": "code",
   "execution_count": 206,
   "id": "6617a860-2858-4849-bd82-6fa888701fdc",
   "metadata": {},
   "outputs": [
    {
     "data": {
      "image/png": "[encoded data removed]",
      "text/plain": [
       "<Figure size 640x480 with 1 Axes>"
      ]
     },
     "metadata": {},
     "output_type": "display_data"
    }
   ],
   "source": [
    "sns.boxplot(df3['Expenditures']);"
   ]
  },
  {
   "cell_type": "code",
   "execution_count": 209,
   "id": "99cb6828-132f-4ce9-9cd3-712446dee68c",
   "metadata": {},
   "outputs": [
    {
     "data": {
      "text/html": [
       "<div>\n",
       "<style scoped>\n",
       "    .dataframe tbody tr th:only-of-type {\n",
       "        vertical-align: middle;\n",
       "    }\n",
       "\n",
       "    .dataframe tbody tr th {\n",
       "        vertical-align: top;\n",
       "    }\n",
       "\n",
       "    .dataframe thead th {\n",
       "        text-align: right;\n",
       "    }\n",
       "</style>\n",
       "<table border=\"1\" class=\"dataframe\">\n",
       "  <thead>\n",
       "    <tr style=\"text-align: right;\">\n",
       "      <th></th>\n",
       "      <th>Unnamed: 0</th>\n",
       "      <th>hhid</th>\n",
       "      <th>Region</th>\n",
       "      <th>Type_place_of res</th>\n",
       "      <th>quintile</th>\n",
       "      <th>poverty</th>\n",
       "      <th>Expenditures</th>\n",
       "      <th>Gender</th>\n",
       "      <th>Relation_hh</th>\n",
       "      <th>Age</th>\n",
       "      <th>...</th>\n",
       "      <th>s6eq8</th>\n",
       "      <th>s6eq9</th>\n",
       "      <th>s6eq10</th>\n",
       "      <th>s6eq11</th>\n",
       "      <th>s6eq12a</th>\n",
       "      <th>s6eq12b</th>\n",
       "      <th>s6eq13</th>\n",
       "      <th>s6eq14</th>\n",
       "      <th>s6eq15</th>\n",
       "      <th>s6eq16</th>\n",
       "    </tr>\n",
       "  </thead>\n",
       "  <tbody>\n",
       "    <tr>\n",
       "      <th>0</th>\n",
       "      <td>0</td>\n",
       "      <td>100001</td>\n",
       "      <td>City of bwiza</td>\n",
       "      <td>Urban</td>\n",
       "      <td>Q4</td>\n",
       "      <td>Rich</td>\n",
       "      <td>305390.90625</td>\n",
       "      <td>Female</td>\n",
       "      <td>Household head (HH)</td>\n",
       "      <td>33</td>\n",
       "      <td>...</td>\n",
       "      <td>NaN</td>\n",
       "      <td>NaN</td>\n",
       "      <td>NaN</td>\n",
       "      <td>NaN</td>\n",
       "      <td>NaN</td>\n",
       "      <td>NaN</td>\n",
       "      <td>NaN</td>\n",
       "      <td>NaN</td>\n",
       "      <td>NaN</td>\n",
       "      <td>NaN</td>\n",
       "    </tr>\n",
       "  </tbody>\n",
       "</table>\n",
       "<p>1 rows × 66 columns</p>\n",
       "</div>"
      ],
      "text/plain": [
       "   Unnamed: 0    hhid         Region Type_place_of res quintile poverty  \\\n",
       "0           0  100001  City of bwiza             Urban       Q4    Rich   \n",
       "\n",
       "   Expenditures  Gender          Relation_hh  Age  ...  s6eq8 s6eq9 s6eq10  \\\n",
       "0  305390.90625  Female  Household head (HH)   33  ...    NaN   NaN    NaN   \n",
       "\n",
       "  s6eq11 s6eq12a s6eq12b s6eq13 s6eq14 s6eq15 s6eq16  \n",
       "0    NaN     NaN     NaN    NaN    NaN    NaN    NaN  \n",
       "\n",
       "[1 rows x 66 columns]"
      ]
     },
     "execution_count": 209,
     "metadata": {},
     "output_type": "execute_result"
    }
   ],
   "source": [
    "df3.head(1)"
   ]
  },
  {
   "cell_type": "markdown",
   "id": "25fbe903-9263-4377-bb04-8b58776b5b51",
   "metadata": {},
   "source": [
    "## Population by Gender and Region"
   ]
  },
  {
   "cell_type": "code",
   "execution_count": 258,
   "id": "b7098cb0-a74b-4e29-8d36-864e9b1fd2af",
   "metadata": {},
   "outputs": [
    {
     "data": {
      "text/html": [
       "<div>\n",
       "<style scoped>\n",
       "    .dataframe tbody tr th:only-of-type {\n",
       "        vertical-align: middle;\n",
       "    }\n",
       "\n",
       "    .dataframe tbody tr th {\n",
       "        vertical-align: top;\n",
       "    }\n",
       "\n",
       "    .dataframe thead th {\n",
       "        text-align: right;\n",
       "    }\n",
       "</style>\n",
       "<table border=\"1\" class=\"dataframe\">\n",
       "  <thead>\n",
       "    <tr style=\"text-align: right;\">\n",
       "      <th>Region</th>\n",
       "      <th>City of bwiza</th>\n",
       "      <th>Eastern region</th>\n",
       "      <th>Norther region</th>\n",
       "      <th>Southern region</th>\n",
       "      <th>Western region</th>\n",
       "      <th>Total</th>\n",
       "    </tr>\n",
       "    <tr>\n",
       "      <th>Gender</th>\n",
       "      <th></th>\n",
       "      <th></th>\n",
       "      <th></th>\n",
       "      <th></th>\n",
       "      <th></th>\n",
       "      <th></th>\n",
       "    </tr>\n",
       "  </thead>\n",
       "  <tbody>\n",
       "    <tr>\n",
       "      <th>Female</th>\n",
       "      <td>2173</td>\n",
       "      <td>7605</td>\n",
       "      <td>5453</td>\n",
       "      <td>8451</td>\n",
       "      <td>7853</td>\n",
       "      <td>31535</td>\n",
       "    </tr>\n",
       "    <tr>\n",
       "      <th>Male</th>\n",
       "      <td>2001</td>\n",
       "      <td>6943</td>\n",
       "      <td>4998</td>\n",
       "      <td>7578</td>\n",
       "      <td>6969</td>\n",
       "      <td>28489</td>\n",
       "    </tr>\n",
       "    <tr>\n",
       "      <th>Total</th>\n",
       "      <td>4174</td>\n",
       "      <td>14548</td>\n",
       "      <td>10451</td>\n",
       "      <td>16029</td>\n",
       "      <td>14822</td>\n",
       "      <td>60024</td>\n",
       "    </tr>\n",
       "  </tbody>\n",
       "</table>\n",
       "</div>"
      ],
      "text/plain": [
       "Region  City of bwiza  Eastern region  Norther region  Southern region  \\\n",
       "Gender                                                                   \n",
       "Female           2173            7605            5453             8451   \n",
       "Male             2001            6943            4998             7578   \n",
       "Total            4174           14548           10451            16029   \n",
       "\n",
       "Region  Western region  Total  \n",
       "Gender                         \n",
       "Female            7853  31535  \n",
       "Male              6969  28489  \n",
       "Total            14822  60024  "
      ]
     },
     "execution_count": 258,
     "metadata": {},
     "output_type": "execute_result"
    }
   ],
   "source": [
    "pd.crosstab(df3['Gender'],df3['Region'],margins=True,margins_name='Total')"
   ]
  },
  {
   "cell_type": "code",
   "execution_count": 265,
   "id": "b5b813c5-5f42-456e-a8bb-7497f7af48ea",
   "metadata": {},
   "outputs": [
    {
     "data": {
      "text/html": [
       "<div>\n",
       "<style scoped>\n",
       "    .dataframe tbody tr th:only-of-type {\n",
       "        vertical-align: middle;\n",
       "    }\n",
       "\n",
       "    .dataframe tbody tr th {\n",
       "        vertical-align: top;\n",
       "    }\n",
       "\n",
       "    .dataframe thead th {\n",
       "        text-align: right;\n",
       "    }\n",
       "</style>\n",
       "<table border=\"1\" class=\"dataframe\">\n",
       "  <thead>\n",
       "    <tr style=\"text-align: right;\">\n",
       "      <th>Gender</th>\n",
       "      <th>Female</th>\n",
       "      <th>Male</th>\n",
       "    </tr>\n",
       "    <tr>\n",
       "      <th>Region</th>\n",
       "      <th></th>\n",
       "      <th></th>\n",
       "    </tr>\n",
       "  </thead>\n",
       "  <tbody>\n",
       "    <tr>\n",
       "      <th>City of bwiza</th>\n",
       "      <td>6.9</td>\n",
       "      <td>7.0</td>\n",
       "    </tr>\n",
       "    <tr>\n",
       "      <th>Eastern region</th>\n",
       "      <td>24.1</td>\n",
       "      <td>24.4</td>\n",
       "    </tr>\n",
       "    <tr>\n",
       "      <th>Norther region</th>\n",
       "      <td>17.3</td>\n",
       "      <td>17.5</td>\n",
       "    </tr>\n",
       "    <tr>\n",
       "      <th>Southern region</th>\n",
       "      <td>26.8</td>\n",
       "      <td>26.6</td>\n",
       "    </tr>\n",
       "    <tr>\n",
       "      <th>Western region</th>\n",
       "      <td>24.9</td>\n",
       "      <td>24.5</td>\n",
       "    </tr>\n",
       "  </tbody>\n",
       "</table>\n",
       "</div>"
      ],
      "text/plain": [
       "Gender           Female  Male\n",
       "Region                       \n",
       "City of bwiza       6.9   7.0\n",
       "Eastern region     24.1  24.4\n",
       "Norther region     17.3  17.5\n",
       "Southern region    26.8  26.6\n",
       "Western region     24.9  24.5"
      ]
     },
     "execution_count": 265,
     "metadata": {},
     "output_type": "execute_result"
    }
   ],
   "source": [
    "dff=pd.crosstab(df3['Region'],df3['Gender'])\n",
    "x=(dff/dff.sum()*100).round(1)\n",
    "x"
   ]
  },
  {
   "cell_type": "code",
   "execution_count": 277,
   "id": "4a396e99-b33b-4ed4-ad9a-c9ff8b923705",
   "metadata": {},
   "outputs": [
    {
     "data": {
      "image/png": "[encoded data removed]",
      "text/plain": [
       "<Figure size 1000x300 with 1 Axes>"
      ]
     },
     "metadata": {},
     "output_type": "display_data"
    }
   ],
   "source": [
    "bargraph=x.plot(kind='bar',width=0.5,rot=50,figsize=(10,3))\n",
    "\n",
    "plt.title('population by gender and region')\n",
    "plt.ylabel('Gender')\n",
    "plt.ylim(0,30)\n",
    "for container in bargraph.containers:\n",
    "    bargraph.bar_label(container)"
   ]
  },
  {
   "cell_type": "code",
   "execution_count": null,
   "id": "96e6d5bf-0517-4525-918f-4132fdedff9e",
   "metadata": {},
   "outputs": [],
   "source": []
  },
  {
   "cell_type": "code",
   "execution_count": 320,
   "id": "347c0446-8516-49ea-b98c-107c3f0ad0ec",
   "metadata": {},
   "outputs": [
    {
     "data": {
      "image/png": "[encoded data removed]",
      "text/plain": [
       "<Figure size 800x500 with 1 Axes>"
      ]
     },
     "metadata": {},
     "output_type": "display_data"
    }
   ],
   "source": [
    "bargraph=x.plot(kind='barh',width=0.5,rot=40,figsize=(8,5))\n",
    "\n",
    "plt.title('population by gender and region')\n",
    "plt.ylabel('Gender')\n",
    "plt.xlim(0,30)\n",
    "for container in bargraph.containers:\n",
    "    bargraph.bar_label(container)"
   ]
  },
  {
   "cell_type": "code",
   "execution_count": 279,
   "id": "8faaf2d4-d4ad-4067-85ac-952e93cb6816",
   "metadata": {},
   "outputs": [
    {
     "data": {
      "text/html": [
       "<div>\n",
       "<style scoped>\n",
       "    .dataframe tbody tr th:only-of-type {\n",
       "        vertical-align: middle;\n",
       "    }\n",
       "\n",
       "    .dataframe tbody tr th {\n",
       "        vertical-align: top;\n",
       "    }\n",
       "\n",
       "    .dataframe thead th {\n",
       "        text-align: right;\n",
       "    }\n",
       "</style>\n",
       "<table border=\"1\" class=\"dataframe\">\n",
       "  <thead>\n",
       "    <tr style=\"text-align: right;\">\n",
       "      <th></th>\n",
       "      <th>Unnamed: 0</th>\n",
       "      <th>hhid</th>\n",
       "      <th>Region</th>\n",
       "      <th>Type_place_of res</th>\n",
       "      <th>quintile</th>\n",
       "      <th>poverty</th>\n",
       "      <th>Expenditures</th>\n",
       "      <th>Gender</th>\n",
       "      <th>Relation_hh</th>\n",
       "      <th>Age</th>\n",
       "      <th>...</th>\n",
       "      <th>s6eq8</th>\n",
       "      <th>s6eq9</th>\n",
       "      <th>s6eq10</th>\n",
       "      <th>s6eq11</th>\n",
       "      <th>s6eq12a</th>\n",
       "      <th>s6eq12b</th>\n",
       "      <th>s6eq13</th>\n",
       "      <th>s6eq14</th>\n",
       "      <th>s6eq15</th>\n",
       "      <th>s6eq16</th>\n",
       "    </tr>\n",
       "  </thead>\n",
       "  <tbody>\n",
       "    <tr>\n",
       "      <th>0</th>\n",
       "      <td>0</td>\n",
       "      <td>100001</td>\n",
       "      <td>City of bwiza</td>\n",
       "      <td>Urban</td>\n",
       "      <td>Q4</td>\n",
       "      <td>Rich</td>\n",
       "      <td>305390.90625</td>\n",
       "      <td>Female</td>\n",
       "      <td>Household head (HH)</td>\n",
       "      <td>33</td>\n",
       "      <td>...</td>\n",
       "      <td>NaN</td>\n",
       "      <td>NaN</td>\n",
       "      <td>NaN</td>\n",
       "      <td>NaN</td>\n",
       "      <td>NaN</td>\n",
       "      <td>NaN</td>\n",
       "      <td>NaN</td>\n",
       "      <td>NaN</td>\n",
       "      <td>NaN</td>\n",
       "      <td>NaN</td>\n",
       "    </tr>\n",
       "  </tbody>\n",
       "</table>\n",
       "<p>1 rows × 66 columns</p>\n",
       "</div>"
      ],
      "text/plain": [
       "   Unnamed: 0    hhid         Region Type_place_of res quintile poverty  \\\n",
       "0           0  100001  City of bwiza             Urban       Q4    Rich   \n",
       "\n",
       "   Expenditures  Gender          Relation_hh  Age  ...  s6eq8 s6eq9 s6eq10  \\\n",
       "0  305390.90625  Female  Household head (HH)   33  ...    NaN   NaN    NaN   \n",
       "\n",
       "  s6eq11 s6eq12a s6eq12b s6eq13 s6eq14 s6eq15 s6eq16  \n",
       "0    NaN     NaN     NaN    NaN    NaN    NaN    NaN  \n",
       "\n",
       "[1 rows x 66 columns]"
      ]
     },
     "execution_count": 279,
     "metadata": {},
     "output_type": "execute_result"
    }
   ],
   "source": [
    "df3.head(1)"
   ]
  },
  {
   "cell_type": "code",
   "execution_count": null,
   "id": "08731a7b-33e0-44c1-bceb-6a8790161244",
   "metadata": {},
   "outputs": [],
   "source": []
  },
  {
   "cell_type": "markdown",
   "id": "39ed4469-2182-40cf-bd84-3e1632fecedc",
   "metadata": {},
   "source": [
    "## poverty level by Region and age"
   ]
  },
  {
   "cell_type": "code",
   "execution_count": 350,
   "id": "fa68d978-3d89-41b9-b115-ccd22638b56b",
   "metadata": {},
   "outputs": [
    {
     "data": {
      "text/html": [
       "<div>\n",
       "<style scoped>\n",
       "    .dataframe tbody tr th:only-of-type {\n",
       "        vertical-align: middle;\n",
       "    }\n",
       "\n",
       "    .dataframe tbody tr th {\n",
       "        vertical-align: top;\n",
       "    }\n",
       "\n",
       "    .dataframe thead th {\n",
       "        text-align: right;\n",
       "    }\n",
       "</style>\n",
       "<table border=\"1\" class=\"dataframe\">\n",
       "  <thead>\n",
       "    <tr style=\"text-align: right;\">\n",
       "      <th>poverty</th>\n",
       "      <th>Ext</th>\n",
       "      <th>Extremely pooy</th>\n",
       "      <th>Poor</th>\n",
       "      <th>Rich</th>\n",
       "      <th>ric</th>\n",
       "    </tr>\n",
       "    <tr>\n",
       "      <th>Gender</th>\n",
       "      <th></th>\n",
       "      <th></th>\n",
       "      <th></th>\n",
       "      <th></th>\n",
       "      <th></th>\n",
       "    </tr>\n",
       "  </thead>\n",
       "  <tbody>\n",
       "    <tr>\n",
       "      <th>Female</th>\n",
       "      <td>0</td>\n",
       "      <td>5670</td>\n",
       "      <td>8042</td>\n",
       "      <td>17822</td>\n",
       "      <td>1</td>\n",
       "    </tr>\n",
       "    <tr>\n",
       "      <th>Male</th>\n",
       "      <td>1</td>\n",
       "      <td>4999</td>\n",
       "      <td>7089</td>\n",
       "      <td>16400</td>\n",
       "      <td>0</td>\n",
       "    </tr>\n",
       "  </tbody>\n",
       "</table>\n",
       "</div>"
      ],
      "text/plain": [
       "poverty  Ext  Extremely pooy  Poor   Rich  ric\n",
       "Gender                                        \n",
       "Female     0            5670  8042  17822    1\n",
       "Male       1            4999  7089  16400    0"
      ]
     },
     "execution_count": 350,
     "metadata": {},
     "output_type": "execute_result"
    }
   ],
   "source": [
    "pd.crosstab(df3.Gender, df3.poverty)"
   ]
  },
  {
   "cell_type": "code",
   "execution_count": 360,
   "id": "68ec32db-b26d-4349-b39c-caf3a0cc198d",
   "metadata": {},
   "outputs": [
    {
     "data": {
      "image/png": "[encoded data removed]",
      "text/plain": [
       "<Figure size 2000x2000 with 5 Axes>"
      ]
     },
     "metadata": {},
     "output_type": "display_data"
    }
   ],
   "source": [
    "pd.crosstab(df3['Gender'],df3['poverty']).plot(kind='pie',autopct='%1.2f',subplots=True ,figsize=(20,20));"
   ]
  },
  {
   "cell_type": "code",
   "execution_count": null,
   "id": "19a1c672-4443-4284-b683-885d7bd7d91d",
   "metadata": {},
   "outputs": [],
   "source": []
  }
 ],
 "metadata": {
  "kernelspec": {
   "display_name": "Python 3 (ipykernel)",
   "language": "python",
   "name": "python3"
  },
  "language_info": {
   "codemirror_mode": {
    "name": "ipython",
    "version": 3
   },
   "file_extension": ".py",
   "mimetype": "text/x-python",
   "name": "python",
   "nbconvert_exporter": "python",
   "pygments_lexer": "ipython3",
   "version": "3.12.7"
  }
 },
 "nbformat": 4,
 "nbformat_minor": 5
}
